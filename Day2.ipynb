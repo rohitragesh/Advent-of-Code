{
  "nbformat": 4,
  "nbformat_minor": 0,
  "metadata": {
    "colab": {
      "provenance": []
    },
    "kernelspec": {
      "name": "python3",
      "display_name": "Python 3"
    },
    "language_info": {
      "name": "python"
    }
  },
  "cells": [
    {
      "cell_type": "code",
      "execution_count": 82,
      "metadata": {
        "id": "-BiPsr2nUonj"
      },
      "outputs": [],
      "source": [
        "Day2=open('Day2.txt','r')\n",
        "rounds=Day2.readlines()\n",
        "A=X=1\n",
        "B=Y=2\n",
        "C=Z=3\n",
        "win=[('A','Y'),('B','Z'),('C','X')]\n",
        "loss=[('A','Z'),('B','X'),('C','Y')]\n",
        "draw=[('A','X'),('B','Y'),('C','Z')]"
      ]
    },
    {
      "cell_type": "code",
      "source": [
        "list1=[]\n",
        "for i in rounds :\n",
        "    list1=list1+[i.strip()]"
      ],
      "metadata": {
        "id": "xKr-0E2jVcEa"
      },
      "execution_count": 83,
      "outputs": []
    },
    {
      "cell_type": "code",
      "source": [
        "\n",
        "final=[]\n",
        "for i in list1:\n",
        "  if (i != \"\\n\"):\n",
        "    final.append(tuple(i.split())) \n"
      ],
      "metadata": {
        "id": "PWaqFYPqVyys"
      },
      "execution_count": 84,
      "outputs": []
    },
    {
      "cell_type": "code",
      "source": [
        "x=0\n",
        "y=0\n",
        "z=0\n",
        "for i in final:\n",
        "  if i in win:\n",
        "    if 'X' in i :\n",
        "      x+=7\n",
        "    if 'Y' in i:\n",
        "      y+=8\n",
        "    if 'Z' in i:\n",
        "      z+=9\n",
        "        \n",
        "  if i in loss:\n",
        "    if 'X' in i :\n",
        "      x+=1\n",
        "    if 'Y' in i:\n",
        "      y+=2\n",
        "    if 'Z' in i:\n",
        "      z+=3\n",
        "    \n",
        "  if i in draw:\n",
        "    if 'X' in i :\n",
        "      x+=3+1\n",
        "    if 'Y' in i:\n",
        "      y+=3+2\n",
        "    if 'Z' in i:\n",
        "      z+=3+3\n",
        "\n",
        "print(x+y+z)"
      ],
      "metadata": {
        "colab": {
          "base_uri": "https://localhost:8080/"
        },
        "id": "uqx2r5aaU3lj",
        "outputId": "cbf4336c-b602-4c4c-cfb6-2c170ee4cd04"
      },
      "execution_count": 85,
      "outputs": [
        {
          "output_type": "stream",
          "name": "stdout",
          "text": [
            "14375\n"
          ]
        }
      ]
    },
    {
      "cell_type": "markdown",
      "source": [
        "Part 2\n"
      ],
      "metadata": {
        "id": "x63WgviceSrU"
      }
    },
    {
      "cell_type": "code",
      "source": [
        "l=0\n",
        "m=0\n",
        "n=0\n",
        "for i in final:\n",
        "  if 'X' in i:\n",
        "    if 'A' in i :\n",
        "      l+=3\n",
        "    if 'B' in i:\n",
        "      m+=1\n",
        "    if 'C' in i:\n",
        "      n+=2\n",
        "        \n",
        "  if 'Y' in i:\n",
        "    if 'A' in i :\n",
        "      l+=4\n",
        "    if 'B' in i:\n",
        "      m+=5\n",
        "    if 'C' in i:\n",
        "      n+=6\n",
        "    \n",
        "  if 'Z' in i:\n",
        "    if 'A' in i :\n",
        "      l+=8\n",
        "    if 'B' in i:\n",
        "      m+=9\n",
        "    if 'C' in i:\n",
        "      n+=7\n",
        "print(l+m+n)\n",
        "  \n"
      ],
      "metadata": {
        "colab": {
          "base_uri": "https://localhost:8080/"
        },
        "id": "IUgD0tuhVPg6",
        "outputId": "9eb8de1c-f454-4ac8-ec49-aad46dbdcc53"
      },
      "execution_count": 86,
      "outputs": [
        {
          "output_type": "stream",
          "name": "stdout",
          "text": [
            "10274\n"
          ]
        }
      ]
    }
  ]
}