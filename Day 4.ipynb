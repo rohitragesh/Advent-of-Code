{
  "nbformat": 4,
  "nbformat_minor": 0,
  "metadata": {
    "colab": {
      "provenance": []
    },
    "kernelspec": {
      "name": "python3",
      "display_name": "Python 3"
    },
    "language_info": {
      "name": "python"
    }
  },
  "cells": [
    {
      "cell_type": "code",
      "execution_count": 43,
      "metadata": {
        "id": "dUG8OKWucrNQ"
      },
      "outputs": [],
      "source": [
        "Day4=open('Day 4.txt','r')\n",
        "content=Day4.readlines()"
      ]
    },
    {
      "cell_type": "code",
      "source": [
        "lists=[]\n",
        "for i in content:\n",
        "  lists=lists+[i.strip()]"
      ],
      "metadata": {
        "id": "fE3FzAsDc666"
      },
      "execution_count": 44,
      "outputs": []
    },
    {
      "cell_type": "code",
      "source": [
        "list1=[]\n",
        "for i in lists:\n",
        "  list1+=i.split(',')\n"
      ],
      "metadata": {
        "id": "ZX_0wJADirfY"
      },
      "execution_count": 46,
      "outputs": []
    },
    {
      "cell_type": "code",
      "source": [
        "main_list=[]\n",
        "for i in list1:\n",
        "  main_list+=i.split('-')"
      ],
      "metadata": {
        "id": "FAfkk0Q9U8vD"
      },
      "execution_count": 47,
      "outputs": []
    },
    {
      "cell_type": "code",
      "source": [
        "p=0\n",
        "q=1\n",
        "r=2\n",
        "s=3\n",
        "l=0\n",
        "m=0\n",
        "n=0\n",
        "o=0\n",
        "x=0\n",
        "list4=[]\n",
        "list5=[]\n",
        "\n",
        "def intersection(lst1, lst2):\n",
        "    list3 = [value for value in lst1 if value in lst2]\n",
        "    return list3\n",
        "while s<=4000:\n",
        "  l=int(main_list[p])\n",
        "  m=int(main_list[q])\n",
        "  n=int(main_list[r])\n",
        "  o=int(main_list[s])\n",
        "  \n",
        "  list4=range(l,m+1)\n",
        "  \n",
        "  list5= range(n,o+1)\n",
        "  \n",
        "  \n",
        "  if len(intersection(list4,list5))==len(list4) or len(intersection(list5,list4))==len(list5):\n",
        "    x+=1\n",
        "    \n",
        "  \n",
        "\n",
        "\n",
        "  p+=4\n",
        "  q+=4\n",
        "  r+=4\n",
        "  s+=4\n",
        "  list4=[]\n",
        "  list5=[]\n",
        "print(x)\n",
        "   \n"
      ],
      "metadata": {
        "colab": {
          "base_uri": "https://localhost:8080/"
        },
        "id": "OZfTJHNUCLBs",
        "outputId": "3f82b125-f539-456d-aa2d-9c495d5436e7"
      },
      "execution_count": 60,
      "outputs": [
        {
          "output_type": "stream",
          "name": "stdout",
          "text": [
            "496\n"
          ]
        }
      ]
    },
    {
      "cell_type": "markdown",
      "source": [
        "Part 2\n"
      ],
      "metadata": {
        "id": "WdsTqEe6_Y0d"
      }
    },
    {
      "cell_type": "code",
      "source": [
        "p=0\n",
        "q=1\n",
        "r=2\n",
        "s=3\n",
        "l=0\n",
        "m=0\n",
        "n=0\n",
        "o=0\n",
        "x=0\n",
        "y=0\n",
        "list4=[]\n",
        "list5=[]\n",
        "\n",
        "def intersection(lst1, lst2):\n",
        "    list3 = [value for value in lst1 if value in lst2]\n",
        "    return list3\n",
        "while s<=4000:\n",
        "  l=int(main_list[p])\n",
        "  m=int(main_list[q])\n",
        "  n=int(main_list[r])\n",
        "  o=int(main_list[s])\n",
        "  \n",
        "  list4=range(l,m+1)\n",
        "  \n",
        "  list5= range(n,o+1)\n",
        "  \n",
        "  \n",
        "  for i in list4:\n",
        "    if i in list5:\n",
        "      y+=1\n",
        "      break\n",
        "    \n",
        "  \n",
        "\n",
        "\n",
        "  p+=4\n",
        "  q+=4\n",
        "  r+=4\n",
        "  s+=4\n",
        "  list4=[]\n",
        "  list5=[]\n",
        "print(y)\n",
        "   \n"
      ],
      "metadata": {
        "colab": {
          "base_uri": "https://localhost:8080/"
        },
        "id": "m6vmH66G-xgT",
        "outputId": "75c0b4cd-2862-4023-d96a-cebc5a960d58"
      },
      "execution_count": 63,
      "outputs": [
        {
          "output_type": "stream",
          "name": "stdout",
          "text": [
            "847\n"
          ]
        }
      ]
    },
    {
      "cell_type": "code",
      "source": [],
      "metadata": {
        "id": "JQSTlzFu_242"
      },
      "execution_count": null,
      "outputs": []
    }
  ]
}