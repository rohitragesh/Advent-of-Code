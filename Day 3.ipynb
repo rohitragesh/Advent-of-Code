{
  "nbformat": 4,
  "nbformat_minor": 0,
  "metadata": {
    "colab": {
      "provenance": []
    },
    "kernelspec": {
      "name": "python3",
      "display_name": "Python 3"
    },
    "language_info": {
      "name": "python"
    }
  },
  "cells": [
    {
      "cell_type": "code",
      "execution_count": 158,
      "metadata": {
        "id": "C5rv0YEeLL6C"
      },
      "outputs": [],
      "source": [
        "Day3=open('Day 3.txt','r')\n",
        "rucksacks=Day3.readlines()\n",
        "lists=[]\n",
        "for i in rucksacks :\n",
        "  lists=lists+[i.strip()]"
      ]
    },
    {
      "cell_type": "code",
      "source": [
        "a=0\n",
        "b=0\n",
        "comp1=''\n",
        "comp2=''\n",
        "for letters in lists:\n",
        "  half=(len(letters)/2)\n",
        "  comp1=letters[0:int(half)]\n",
        "  comp2=letters[int(half):]\n",
        "  for duplicate in comp1:\n",
        "    if duplicate in comp2:\n",
        "      if duplicate.islower():\n",
        "        a+=(ord(duplicate)-96)        \n",
        "      elif duplicate.isupper():\n",
        "        b+=(ord(duplicate)-38)       \n",
        "      break\n",
        "print(a+b)"
      ],
      "metadata": {
        "colab": {
          "base_uri": "https://localhost:8080/"
        },
        "id": "ddpGKfV3P8ba",
        "outputId": "5cd64c7c-6b9d-490d-d0f3-78f2bf5c70ef"
      },
      "execution_count": 159,
      "outputs": [
        {
          "output_type": "stream",
          "name": "stdout",
          "text": [
            "8240\n"
          ]
        }
      ]
    },
    {
      "cell_type": "markdown",
      "source": [
        "\n",
        "\n",
        "Part 2\n"
      ],
      "metadata": {
        "id": "-RgEIyCdd2Br"
      }
    },
    {
      "cell_type": "code",
      "source": [
        "l=0\n",
        "m=1\n",
        "n=2\n",
        "p=''\n",
        "q=''\n",
        "r=''\n",
        "list1=[]\n",
        "for i in lists:\n",
        "  if n<=300:\n",
        "   p=lists[l]\n",
        "   q=lists[m]\n",
        "   r=lists[n]\n",
        "   for j in p:\n",
        "     if j in q :\n",
        "       if j in r:\n",
        "         list1+=j\n",
        "         break\n",
        "  l+=3\n",
        "  m+=3\n",
        "  n+=3"
      ],
      "metadata": {
        "id": "7YRTOTq3kSiR"
      },
      "execution_count": 160,
      "outputs": []
    },
    {
      "cell_type": "code",
      "source": [
        "\n",
        "len(list1)"
      ],
      "metadata": {
        "colab": {
          "base_uri": "https://localhost:8080/"
        },
        "id": "MzuuP779GCq6",
        "outputId": "35c307dc-9282-4b67-cb27-b820519f13b8"
      },
      "execution_count": 161,
      "outputs": [
        {
          "output_type": "execute_result",
          "data": {
            "text/plain": [
              "100"
            ]
          },
          "metadata": {},
          "execution_count": 161
        }
      ]
    },
    {
      "cell_type": "code",
      "source": [
        "a=0\n",
        "c=0\n",
        "for i in list1:\n",
        "  if i.islower():    \n",
        "    a+=(ord(i)-96)        \n",
        "  elif i.isupper():\n",
        "        c+=(ord(i)-38)\n",
        "print(c+a)\n"
      ],
      "metadata": {
        "colab": {
          "base_uri": "https://localhost:8080/"
        },
        "id": "mm5zN3xDGc0F",
        "outputId": "b352e767-504c-43b7-8097-abcb9b2f158c"
      },
      "execution_count": 162,
      "outputs": [
        {
          "output_type": "stream",
          "name": "stdout",
          "text": [
            "2587\n"
          ]
        }
      ]
    }
  ]
}